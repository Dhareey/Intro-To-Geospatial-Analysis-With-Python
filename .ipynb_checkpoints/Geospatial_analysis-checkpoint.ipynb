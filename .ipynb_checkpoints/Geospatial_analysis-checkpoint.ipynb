{
 "cells": [
  {
   "cell_type": "markdown",
   "metadata": {},
   "source": [
    "## INTRODUCTION ##\n",
    "Im going to assume anyone seeing this has already installed anaconda and hence has python installed. Also Anaconda comes with some packages installed. I'll also assume that anyone seeing this has a prior knowledge of python programming, data analysis and data visualisation.\n",
    "<p>Note: This notebook is based on University of Helsing's course, <a href= 'https://automating-gis-processes.github.io/site/'>Automating GIS Processes</a>. Please feel free to chck it out. Its really amazing\n",
    " <p> This Notebook will consist of 7 Lessons.\n",
    "<ol>\n",
    "    <li>Lesson 1: Shapely and Geometric Object</li>\n",
    "    </ol>"
   ]
  },
  {
   "cell_type": "code",
   "execution_count": 1,
   "metadata": {},
   "outputs": [
    {
     "name": "stdout",
     "output_type": "stream",
     "text": [
      "Requirement already satisfied: shapely in c:\\users\\oluwasanmi_pius\\anaconda3\\lib\\site-packages (1.7.0)\n"
     ]
    }
   ],
   "source": [
    "\"\"\"\n",
    "Installing Shapely:\n",
    "Install Shapely like you would install any other python library. If the normal pip install doesnt work, then you can use \n",
    "conda install -c conda-forge shapely in the Anaconda prompt. The download will look like so\n",
    "<\n",
    "Or you could install from anaconda prompt using\n",
    "pip install shapely (i recommend running the prompt as administrator, just incase you have 2 users on your pc)\"\"\"\n",
    "!pip install shapely"
   ]
  },
  {
   "cell_type": "markdown",
   "metadata": {},
   "source": [
    "### Geometric Objects ###\n",
    "In space, everything is represented by 3 things, points, lines and Polygon. For example, A building (depending on map scale) can be represented by a point, a road can be represented with line and a large expanse of land can be represented by a Polygon. These 3 Objects are the 3 major Objects in Shapely as well. So we will go through them, how they are created, and well, objects in python has methods so we will examine the basic methods as well."
   ]
  },
  {
   "cell_type": "code",
   "execution_count": 4,
   "metadata": {},
   "outputs": [],
   "source": [
    "# Import Object libraries frm shapely\n",
    "from shapely.geometry import Point, LineString, Polygon"
   ]
  },
  {
   "cell_type": "code",
   "execution_count": 5,
   "metadata": {},
   "outputs": [],
   "source": [
    "# Create point objects\n",
    "# Every point in space atleast 1 dimension. This is the coordinate (x,y). Could be in (Long, Lat),(UTM value), anything\n",
    "# So shapely Point object also takes in 2 arguments. Which is the coordinate of the point\n",
    "point1= Point(2.3, -1.2)\n",
    "point2 = Point(5.7, 25.12)\n",
    "point3= Point(7.3, -20.1)\n",
    "# We can also create 3D objects. That is object with a height or depth\n",
    "point3D = Point(7.3, -20.1, 5.6)"
   ]
  },
  {
   "cell_type": "code",
   "execution_count": 7,
   "metadata": {},
   "outputs": [
    {
     "data": {
      "image/svg+xml": [
       "<svg xmlns=\"http://www.w3.org/2000/svg\" xmlns:xlink=\"http://www.w3.org/1999/xlink\" width=\"100.0\" height=\"100.0\" viewBox=\"1.2999999999999998 -2.2 2.0 2.0\" preserveAspectRatio=\"xMinYMin meet\"><g transform=\"matrix(1,0,0,-1,0,-2.4000000000000004)\"><circle cx=\"2.3\" cy=\"-1.2\" r=\"0.06\" stroke=\"#555555\" stroke-width=\"0.02\" fill=\"#66cc99\" opacity=\"0.6\" /></g></svg>"
      ],
      "text/plain": [
       "<shapely.geometry.point.Point at 0x125a9ba1400>"
      ]
     },
     "execution_count": 7,
     "metadata": {},
     "output_type": "execute_result"
    }
   ],
   "source": [
    "# We can view the point (ofcourse, it has no projection yet so its just arbitrary)\n",
    "point1"
   ]
  },
  {
   "cell_type": "code",
   "execution_count": 8,
   "metadata": {},
   "outputs": [
    {
     "name": "stdout",
     "output_type": "stream",
     "text": [
      "POINT (5.7 25.12)\n",
      "POINT (7.3 -20.1)\n",
      "POINT Z (7.3 -20.1 5.6)\n"
     ]
    }
   ],
   "source": [
    "# We can also print the actual coordinates\n",
    "print(point2)\n",
    "print(point3)\n",
    "print(point3D) #NOTE: 3D points are represented with the capital letter Z"
   ]
  },
  {
   "cell_type": "code",
   "execution_count": 11,
   "metadata": {},
   "outputs": [
    {
     "name": "stdout",
     "output_type": "stream",
     "text": [
      "<class 'shapely.geometry.point.Point'>\n"
     ]
    },
    {
     "data": {
      "text/plain": [
       "'Point'"
      ]
     },
     "execution_count": 11,
     "metadata": {},
     "output_type": "execute_result"
    }
   ],
   "source": [
    "# Ofcourse, we can print the type of object it is\n",
    "# We can also print the geometric type of object the point is\n",
    "# Note, this is applicable to all the shapely objects, Line, Polygon\n",
    "print(type(point1))\n",
    "point1.geom_type"
   ]
  },
  {
   "cell_type": "code",
   "execution_count": 15,
   "metadata": {},
   "outputs": [
    {
     "name": "stdout",
     "output_type": "stream",
     "text": [
      "<shapely.coords.CoordinateSequence object at 0x00000125A9BE06D8>\n",
      "<class 'shapely.coords.CoordinateSequence'>\n",
      "[(2.3, -1.2)]\n",
      "(array('d', [2.3]), array('d', [-1.2]))\n",
      "(array('d', [5.7]), array('d', [25.12]))\n",
      "2.3\n",
      "-1.2\n"
     ]
    }
   ],
   "source": [
    "# Point Attributes and Methods\n",
    "#We can get the point coordinates\n",
    "point_coords = point1.coords\n",
    "print(point_coords)\n",
    "\n",
    "# We can also print the type of point coordinate\n",
    "print(type(point_coords))\n",
    "\n",
    "# point_coords above is an object, meaning we can extract the coordinates in a list or tuple lke so\n",
    "print(list(point_coords))\n",
    "\n",
    "# We can get the xy value, or just x and y like so\n",
    "xy = point_coords.xy\n",
    "print(xy)\n",
    "\n",
    "# This goes without saying that we can also just write it as\n",
    "xy = point2.coords.xy\n",
    "print(xy)\n",
    "\n",
    "# We can get the x value\n",
    "x = point1.x\n",
    "print(x)\n",
    "\n",
    "# We can get the y value\n",
    "y = point1.y\n",
    "print(y)"
   ]
  },
  {
   "cell_type": "code",
   "execution_count": null,
   "metadata": {},
   "outputs": [],
   "source": []
  }
 ],
 "metadata": {
  "kernelspec": {
   "display_name": "Python 3",
   "language": "python",
   "name": "python3"
  },
  "language_info": {
   "codemirror_mode": {
    "name": "ipython",
    "version": 3
   },
   "file_extension": ".py",
   "mimetype": "text/x-python",
   "name": "python",
   "nbconvert_exporter": "python",
   "pygments_lexer": "ipython3",
   "version": "3.7.3"
  }
 },
 "nbformat": 4,
 "nbformat_minor": 2
}
