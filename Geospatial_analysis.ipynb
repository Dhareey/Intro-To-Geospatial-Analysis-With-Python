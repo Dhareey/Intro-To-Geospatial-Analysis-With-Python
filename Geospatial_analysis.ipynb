{
 "cells": [
  {
   "cell_type": "markdown",
   "metadata": {},
   "source": [
    "## INTRODUCTION ##\n",
    "Im going to assume anyone seeing this has already installed anaconda and hence has python installed. Also Anaconda comes with some packages installed. I'll also assume that anyone seeing this has a prior knowledge of python programming, data analysis and data visualisation.\n",
    "<p>Note: This notebook is based on University of Helsing's course, <a href= 'https://automating-gis-processes.github.io/site/'>Automating GIS Processes</a>. Please feel free to chck it out. Its really amazing\n",
    " <p> This Notebook will consist of 7 Lessons.\n",
    "<ol>\n",
    "    <li>Lesson 1: Shapely and Geometric Object</li>\n",
    "    </ol>"
   ]
  },
  {
   "cell_type": "code",
   "execution_count": 1,
   "metadata": {},
   "outputs": [
    {
     "name": "stdout",
     "output_type": "stream",
     "text": [
      "Requirement already satisfied: shapely in c:\\users\\oluwasanmi_pius\\anaconda3\\lib\\site-packages (1.7.0)\n"
     ]
    }
   ],
   "source": [
    "\"\"\"\n",
    "Installing Shapely:\n",
    "Install Shapely like you would install any other python library. If the normal pip install doesnt work, then you can use \n",
    "conda install -c conda-forge shapely in the Anaconda prompt. The download will look like so\n",
    "<\n",
    "Or you could install from anaconda prompt using\n",
    "pip install shapely (i recommend running the prompt as administrator, just incase you have 2 users on your pc)\"\"\"\n",
    "!pip install shapely"
   ]
  },
  {
   "cell_type": "markdown",
   "metadata": {},
   "source": [
    "# LESSON 1 #\n",
    "### Geometric Objects ###\n",
    "In space, everything is represented by 3 things, points, lines and Polygon. For example, A building (depending on map scale) can be represented by a point, a road can be represented with line and a large expanse of land can be represented by a Polygon. These 3 Objects are the 3 major Objects in Shapely as well. So we will go through them, how they are created, and well, objects in python has methods so we will examine the basic methods as well."
   ]
  },
  {
   "cell_type": "code",
   "execution_count": 1,
   "metadata": {},
   "outputs": [],
   "source": [
    "# Import Object libraries frm shapely\n",
    "from shapely.geometry import Point, LineString, Polygon"
   ]
  },
  {
   "cell_type": "code",
   "execution_count": 2,
   "metadata": {},
   "outputs": [],
   "source": [
    "# Create point objects\n",
    "# Every point in space atleast 1 dimension. This is the coordinate (x,y). Could be in (Long, Lat),(UTM value), anything\n",
    "# So shapely Point object also takes in 2 arguments. Which is the coordinate of the point\n",
    "point1= Point(2.3, -1.2)\n",
    "point2 = Point(5.7, 25.12)\n",
    "point3= Point(7.3, -20.1)\n",
    "# We can also create 3D objects. That is object with a height or depth\n",
    "point3D = Point(7.3, -20.1, 5.6)"
   ]
  },
  {
   "cell_type": "code",
   "execution_count": 3,
   "metadata": {},
   "outputs": [
    {
     "data": {
      "image/svg+xml": [
       "<svg xmlns=\"http://www.w3.org/2000/svg\" xmlns:xlink=\"http://www.w3.org/1999/xlink\" width=\"100.0\" height=\"100.0\" viewBox=\"1.2999999999999998 -2.2 2.0 2.0\" preserveAspectRatio=\"xMinYMin meet\"><g transform=\"matrix(1,0,0,-1,0,-2.4000000000000004)\"><circle cx=\"2.3\" cy=\"-1.2\" r=\"0.06\" stroke=\"#555555\" stroke-width=\"0.02\" fill=\"#66cc99\" opacity=\"0.6\" /></g></svg>"
      ],
      "text/plain": [
       "<shapely.geometry.point.Point at 0x1e61189de10>"
      ]
     },
     "execution_count": 3,
     "metadata": {},
     "output_type": "execute_result"
    }
   ],
   "source": [
    "# We can view the point (ofcourse, it has no projection yet so its just arbitrary)\n",
    "point1"
   ]
  },
  {
   "cell_type": "code",
   "execution_count": 4,
   "metadata": {},
   "outputs": [
    {
     "name": "stdout",
     "output_type": "stream",
     "text": [
      "POINT (5.7 25.12)\n",
      "POINT (7.3 -20.1)\n",
      "POINT Z (7.3 -20.1 5.6)\n"
     ]
    }
   ],
   "source": [
    "# We can also print the actual coordinates\n",
    "print(point2)\n",
    "print(point3)\n",
    "print(point3D) #NOTE: 3D points are represented with the capital letter Z"
   ]
  },
  {
   "cell_type": "code",
   "execution_count": 5,
   "metadata": {},
   "outputs": [
    {
     "name": "stdout",
     "output_type": "stream",
     "text": [
      "<class 'shapely.geometry.point.Point'>\n"
     ]
    },
    {
     "data": {
      "text/plain": [
       "'Point'"
      ]
     },
     "execution_count": 5,
     "metadata": {},
     "output_type": "execute_result"
    }
   ],
   "source": [
    "# Ofcourse, we can print the type of object it is\n",
    "# We can also print the geometric type of object the point is\n",
    "# Note, this is applicable to all the shapely objects, Line, Polygon\n",
    "print(type(point1))\n",
    "point1.geom_type"
   ]
  },
  {
   "cell_type": "code",
   "execution_count": 6,
   "metadata": {},
   "outputs": [
    {
     "name": "stdout",
     "output_type": "stream",
     "text": [
      "<shapely.coords.CoordinateSequence object at 0x000001E6118CF240>\n",
      "<class 'shapely.coords.CoordinateSequence'>\n",
      "[(2.3, -1.2)]\n",
      "(array('d', [2.3]), array('d', [-1.2]))\n",
      "(array('d', [7.3]), array('d', [-20.1]))\n",
      "(array('d', [5.7]), array('d', [25.12]))\n",
      "2.3\n",
      "-1.2\n"
     ]
    }
   ],
   "source": [
    "# Point Attributes and Methods\n",
    "#We can get the point coordinates\n",
    "point_coords = point1.coords\n",
    "print(point_coords)\n",
    "\n",
    "# We can also print the type of point coordinate\n",
    "print(type(point_coords))\n",
    "\n",
    "# point_coords above is an object, meaning we can extract the coordinates in a list or tuple lke so\n",
    "print(list(point_coords))\n",
    "\n",
    "\n",
    "# We can get the xy value, or just x and y like so\n",
    "xy = point_coords.xy\n",
    "print(xy)\n",
    "\n",
    "# We cna also just use\n",
    "xy = point3D.xy\n",
    "print(xy)\n",
    "\n",
    "# This goes without saying that we can also just write it as\n",
    "xy = point2.coords.xy\n",
    "print(xy)\n",
    "\n",
    "# We can get the x value\n",
    "x = point1.x\n",
    "print(x)\n",
    "\n",
    "# We can get the y value\n",
    "y = point1.y\n",
    "print(y)"
   ]
  },
  {
   "cell_type": "code",
   "execution_count": 7,
   "metadata": {},
   "outputs": [
    {
     "name": "stdout",
     "output_type": "stream",
     "text": [
      "0.0\n",
      "0.0\n"
     ]
    },
    {
     "data": {
      "text/plain": [
       "26.538696275439005"
      ]
     },
     "execution_count": 7,
     "metadata": {},
     "output_type": "execute_result"
    }
   ],
   "source": [
    "# We can calculate the area of the point (ofcourse, the area of a point is 0)\n",
    "print(point1.area)\n",
    "\n",
    "# We can also calculate the length of the point, which will also be 0\n",
    "print(point2.length)\n",
    "\n",
    "# W3 can also check the distance between 2 points\n",
    "point1.distance(point2)"
   ]
  },
  {
   "cell_type": "code",
   "execution_count": null,
   "metadata": {},
   "outputs": [],
   "source": []
  },
  {
   "cell_type": "code",
   "execution_count": 8,
   "metadata": {},
   "outputs": [],
   "source": [
    "# LINESTRING \n",
    "# Line in space must have atleast 2Dimensons, which is the Coordinate and length meaning it must have a starting coordinate and an ending coordinate\n",
    "# LineString in shapely takes a minimum of 2 points, i.e a list of tuples or tuple of tuples\n",
    "# Ofcourse, we can also create the linestring using point coordinates\n",
    "road1 = LineString([(2.1, -4.5), (3.4, -1.2), (5.4, -5.1)])\n",
    "road2 = LineString(((1.2, 3.2), (2.5, -2.3), (4.3,-1.2)))\n",
    "road3 = LineString([point1, point2, point3, point3D])\n",
    "road4 = LineString([(4.5, 1.2, 3.4), (2.3, 4.6, 9.0), (5.6, -2.3, 5.5)])\n"
   ]
  },
  {
   "cell_type": "code",
   "execution_count": 9,
   "metadata": {},
   "outputs": [
    {
     "data": {
      "image/svg+xml": [
       "<svg xmlns=\"http://www.w3.org/2000/svg\" xmlns:xlink=\"http://www.w3.org/1999/xlink\" width=\"100.0\" height=\"100.0\" viewBox=\"2.024 -2.5759999999999996 3.8519999999999994 7.451999999999999\" preserveAspectRatio=\"xMinYMin meet\"><g transform=\"matrix(1,0,0,-1,0,2.3)\"><polyline fill=\"none\" stroke=\"#66cc99\" stroke-width=\"0.14903999999999998\" points=\"4.5,1.2 2.3,4.6 5.6,-2.3\" opacity=\"0.8\" /></g></svg>"
      ],
      "text/plain": [
       "<shapely.geometry.linestring.LineString at 0x1e61189deb8>"
      ]
     },
     "execution_count": 9,
     "metadata": {},
     "output_type": "execute_result"
    }
   ],
   "source": [
    "# Just like point, we can view the line\n",
    "road4"
   ]
  },
  {
   "cell_type": "code",
   "execution_count": 10,
   "metadata": {},
   "outputs": [
    {
     "data": {
      "text/plain": [
       "(array('d', [7.3]), array('d', [-20.1]))"
      ]
     },
     "execution_count": 10,
     "metadata": {},
     "output_type": "execute_result"
    }
   ],
   "source": [
    "point3D.xy"
   ]
  },
  {
   "cell_type": "code",
   "execution_count": 11,
   "metadata": {},
   "outputs": [
    {
     "name": "stdout",
     "output_type": "stream",
     "text": [
      "LINESTRING (2.3 -1.2, 5.7 25.12, 7.3 -20.1, 7.3 -20.1)\n",
      "(array('d', [2.1, 3.4, 5.4]), array('d', [-4.5, -1.2, -5.1]))\n",
      "array('d', [2.1, 3.4, 5.4])\n",
      "array('d', [3.2, -2.3, -1.2])\n",
      "LineString\n",
      "<class 'shapely.geometry.linestring.LineString'>\n"
     ]
    }
   ],
   "source": [
    "# See the coordinates\n",
    "print(road3)\n",
    "\n",
    "# Get coordinates\n",
    "road_coords = road1.xy\n",
    "print(road_coords)\n",
    "\n",
    "# road.y is a list, meaning,we can get the x and y by slicing the list\n",
    "road_x = road_coords[0] # Gives a list of the x coordinates\n",
    "print(road_x)\n",
    "\n",
    "# Get the y coordinates\n",
    "road_y = road2.xy[1]\n",
    "print(road_y)\n",
    "\n",
    "# Get geometric type\n",
    "print(road2.geom_type)\n",
    "\n",
    "# Get object type\n",
    "print(type(road4))\n"
   ]
  },
  {
   "cell_type": "code",
   "execution_count": 12,
   "metadata": {},
   "outputs": [
    {
     "name": "stdout",
     "output_type": "stream",
     "text": [
      "11.698220616652494\n",
      "POINT (5.575783265582978 6.003539256096346)\n",
      "0.05839107676658432\n"
     ]
    }
   ],
   "source": [
    "# Ofcourse we can check the length of the line\n",
    "print(road4.length)\n",
    "\n",
    "# We can also check the centroid\n",
    "print(road3.centroid)\n",
    "\n",
    "# We can also check th distance between lines\n",
    "print(road3.distance(road2))"
   ]
  },
  {
   "cell_type": "code",
   "execution_count": 13,
   "metadata": {},
   "outputs": [],
   "source": [
    "# Polygon \n",
    "# Polygon in space has 3 Dimensions with the third dmenson being volume. Meaning its a closed polygon. I.e, it ends at the coordinates it starts from\n",
    "# Polygon object in shapely takes a list or tuples containing atleast 3 corrdinates i.e/ A list or tuple of atleast 3 tuples\n",
    "world1 = Polygon([(1.2,-3.4), (2.3, -0.1), (4.4, -1.9)])\n",
    "# It can also take a list of points\n",
    "world2 = Polygon([point1, point2, point3, point3D])\n",
    "#But it cannot take a line\n",
    "try:\n",
    "    world3 = Polygon([road4])\n",
    "except:\n",
    "    world3 = 'error, cant process'\n",
    "# Ofcos we can just use list comprehension to extract the coordinates\n",
    "world4 = Polygon([coord for coord in zip(road3.xy[0], road3.xy[1])])"
   ]
  },
  {
   "cell_type": "code",
   "execution_count": 14,
   "metadata": {},
   "outputs": [
    {
     "data": {
      "image/svg+xml": [
       "<svg xmlns=\"http://www.w3.org/2000/svg\" xmlns:xlink=\"http://www.w3.org/1999/xlink\" width=\"100.0\" height=\"100.0\" viewBox=\"0.49119999999999986 -21.908800000000003 8.617600000000001 48.83760000000001\" preserveAspectRatio=\"xMinYMin meet\"><g transform=\"matrix(1,0,0,-1,0,5.02)\"><path fill-rule=\"evenodd\" fill=\"#66cc99\" stroke=\"#555555\" stroke-width=\"0.9767520000000002\" opacity=\"0.6\" d=\"M 2.3,-1.2 L 5.7,25.12 L 7.3,-20.1 L 7.3,-20.1 L 2.3,-1.2 z\" /></g></svg>"
      ],
      "text/plain": [
       "<shapely.geometry.polygon.Polygon at 0x1e6118cfcc0>"
      ]
     },
     "execution_count": 14,
     "metadata": {},
     "output_type": "execute_result"
    }
   ],
   "source": [
    "# View the polygon\n",
    "world4"
   ]
  },
  {
   "cell_type": "code",
   "execution_count": 15,
   "metadata": {},
   "outputs": [
    {
     "data": {
      "text/plain": [
       "'error, cant process'"
      ]
     },
     "execution_count": 15,
     "metadata": {},
     "output_type": "execute_result"
    }
   ],
   "source": [
    "world3"
   ]
  },
  {
   "cell_type": "code",
   "execution_count": 16,
   "metadata": {},
   "outputs": [
    {
     "data": {
      "image/svg+xml": [
       "<svg xmlns=\"http://www.w3.org/2000/svg\" xmlns:xlink=\"http://www.w3.org/1999/xlink\" width=\"100.0\" height=\"100.0\" viewBox=\"0.49119999999999986 -21.908800000000003 8.617600000000001 48.83760000000001\" preserveAspectRatio=\"xMinYMin meet\"><g transform=\"matrix(1,0,0,-1,0,5.02)\"><path fill-rule=\"evenodd\" fill=\"#66cc99\" stroke=\"#555555\" stroke-width=\"0.9767520000000002\" opacity=\"0.6\" d=\"M 2.3,-1.2 L 5.7,25.12 L 7.3,-20.1 L 7.3,-20.1 L 2.3,-1.2 z\" /></g></svg>"
      ],
      "text/plain": [
       "<shapely.geometry.polygon.Polygon at 0x1e6118cfac8>"
      ]
     },
     "execution_count": 16,
     "metadata": {},
     "output_type": "execute_result"
    }
   ],
   "source": [
    "world2"
   ]
  },
  {
   "cell_type": "code",
   "execution_count": 17,
   "metadata": {},
   "outputs": [
    {
     "name": "stdout",
     "output_type": "stream",
     "text": [
      "Gemoteric type Polygon\n",
      "Object type <class 'shapely.geometry.polygon.Polygon'>\n"
     ]
    }
   ],
   "source": [
    "# Check the geomtric type\n",
    "print('Gemoteric type', world1.geom_type)\n",
    "\n",
    "# Check the object type\n",
    "print('Object type', type(world2))"
   ]
  },
  {
   "cell_type": "code",
   "execution_count": 18,
   "metadata": {},
   "outputs": [],
   "source": [
    "# Polygon could also have a hole in it\n",
    "world_has_a_hole = Polygon([(-180, 90), (-180, -90), (180, -90), (180, 90)], [[(-170, 80), (-170, -80), (170, -80), (170, 80)]])"
   ]
  },
  {
   "cell_type": "code",
   "execution_count": 19,
   "metadata": {},
   "outputs": [
    {
     "data": {
      "image/svg+xml": [
       "<svg xmlns=\"http://www.w3.org/2000/svg\" xmlns:xlink=\"http://www.w3.org/1999/xlink\" width=\"300\" height=\"208.8\" viewBox=\"-194.4 -104.4 388.8 208.8\" preserveAspectRatio=\"xMinYMin meet\"><g transform=\"matrix(1,0,0,-1,0,0.0)\"><path fill-rule=\"evenodd\" fill=\"#66cc99\" stroke=\"#555555\" stroke-width=\"2.592\" opacity=\"0.6\" d=\"M -180.0,90.0 L -180.0,-90.0 L 180.0,-90.0 L 180.0,90.0 L -180.0,90.0 z M -170.0,80.0 L -170.0,-80.0 L 170.0,-80.0 L 170.0,80.0 L -170.0,80.0 z\" /></g></svg>"
      ],
      "text/plain": [
       "<shapely.geometry.polygon.Polygon at 0x1e6118e13c8>"
      ]
     },
     "execution_count": 19,
     "metadata": {},
     "output_type": "execute_result"
    }
   ],
   "source": [
    "# The first list of coordinate is the outer bound\n",
    "# The second list is the inner hole\n",
    "# The second lst must be a list of list of tuples\n",
    "# Ofcourse, we can represent these with points\n",
    "world_has_a_hole"
   ]
  },
  {
   "cell_type": "code",
   "execution_count": 20,
   "metadata": {},
   "outputs": [
    {
     "name": "stdout",
     "output_type": "stream",
     "text": [
      "world area 4.455\n",
      "world has a hole area 10400.0\n",
      "centroid: POINT (-0 -0)\n",
      "Bounds: (-180.0, -90.0, 180.0, 90.0)\n",
      "Exterior: LINEARRING (-180 90, -180 -90, 180 -90, 180 90, -180 90)\n",
      "Exterior length: 1080.0\n"
     ]
    }
   ],
   "source": [
    "# We can check the area\n",
    "print('world area', world1.area)\n",
    "print('world has a hole area', world_has_a_hole.area)\n",
    "\n",
    "# We can check the centroid\n",
    "print('centroid:', world_has_a_hole.centroid)\n",
    "\n",
    "# We can check the bounds\n",
    "print('Bounds:', world_has_a_hole.bounds)\n",
    "\n",
    "# We can also check the extrior\n",
    "print('Exterior:', world_has_a_hole.exterior)\n",
    "\n",
    "# WLength of the exterior bounds\n",
    "print('Exterior length:', world_has_a_hole.exterior.length)"
   ]
  },
  {
   "cell_type": "markdown",
   "metadata": {},
   "source": [
    "I practice, we tend to work with variety of geometric object in space. For example, plotting a transportation map requires a collection of roads linked to each other, collection of buildings and other various structures. Shapely have provision for collections of geometric objects in form of MultiPoints, MultiLine, MultiPolygon"
   ]
  },
  {
   "cell_type": "code",
   "execution_count": 40,
   "metadata": {},
   "outputs": [
    {
     "name": "stdout",
     "output_type": "stream",
     "text": [
      "0.0\n",
      "0.0\n",
      "(2.3, -20.1, 7.3, 25.12)\n"
     ]
    }
   ],
   "source": [
    "# Collection of Points\n",
    "from shapely.geometry import MultiPoint, MultiLineString, MultiPolygon # Dont forget. Capital M, capital P\n",
    "building_points = MultiPoint([point1, point2, point3])\n",
    "\n",
    "# We can also run points attributes on MultiPoint object\n",
    "print(building_points.area)\n",
    "print(building_points.length)\n",
    "print(building_points.bounds)"
   ]
  },
  {
   "cell_type": "code",
   "execution_count": 24,
   "metadata": {},
   "outputs": [
    {
     "data": {
      "image/svg+xml": [
       "<svg xmlns=\"http://www.w3.org/2000/svg\" xmlns:xlink=\"http://www.w3.org/1999/xlink\" width=\"100.0\" height=\"100.0\" viewBox=\"0.49119999999999986 -21.908800000000003 8.617600000000001 48.83760000000001\" preserveAspectRatio=\"xMinYMin meet\"><g transform=\"matrix(1,0,0,-1,0,5.02)\"><g><circle cx=\"2.3\" cy=\"-1.2\" r=\"1.4651280000000002\" stroke=\"#555555\" stroke-width=\"0.4883760000000001\" fill=\"#66cc99\" opacity=\"0.6\" /><circle cx=\"5.7\" cy=\"25.12\" r=\"1.4651280000000002\" stroke=\"#555555\" stroke-width=\"0.4883760000000001\" fill=\"#66cc99\" opacity=\"0.6\" /><circle cx=\"7.3\" cy=\"-20.1\" r=\"1.4651280000000002\" stroke=\"#555555\" stroke-width=\"0.4883760000000001\" fill=\"#66cc99\" opacity=\"0.6\" /></g></g></svg>"
      ],
      "text/plain": [
       "<shapely.geometry.multipoint.MultiPoint at 0x1e6118c6978>"
      ]
     },
     "execution_count": 24,
     "metadata": {},
     "output_type": "execute_result"
    }
   ],
   "source": [
    "building_points"
   ]
  },
  {
   "cell_type": "code",
   "execution_count": 26,
   "metadata": {},
   "outputs": [
    {
     "name": "stdout",
     "output_type": "stream",
     "text": [
      "MULTIPOINT (2.3 -1.2, 5.7 25.12, 7.3 -20.1)\n"
     ]
    }
   ],
   "source": [
    "print(building_points)"
   ]
  },
  {
   "cell_type": "code",
   "execution_count": 29,
   "metadata": {},
   "outputs": [
    {
     "data": {
      "image/svg+xml": [
       "<svg xmlns=\"http://www.w3.org/2000/svg\" xmlns:xlink=\"http://www.w3.org/1999/xlink\" width=\"100.0\" height=\"100.0\" viewBox=\"1.2471999999999999 -2.2527999999999997 5.505600000000001 28.425600000000003\" preserveAspectRatio=\"xMinYMin meet\"><g transform=\"matrix(1,0,0,-1,0,23.92)\"><g><circle cx=\"2.3\" cy=\"-1.2\" r=\"0.852768\" stroke=\"#555555\" stroke-width=\"0.284256\" fill=\"#66cc99\" opacity=\"0.6\" /><circle cx=\"5.7\" cy=\"25.12\" r=\"0.852768\" stroke=\"#555555\" stroke-width=\"0.284256\" fill=\"#66cc99\" opacity=\"0.6\" /></g></g></svg>"
      ],
      "text/plain": [
       "<shapely.geometry.multipoint.MultiPoint at 0x1e6118e1518>"
      ]
     },
     "execution_count": 29,
     "metadata": {},
     "output_type": "execute_result"
    }
   ],
   "source": [
    "#We can slice a multipoint object\n",
    "building_points[:2]"
   ]
  },
  {
   "cell_type": "code",
   "execution_count": 35,
   "metadata": {},
   "outputs": [
    {
     "name": "stdout",
     "output_type": "stream",
     "text": [
      "MULTIPOINT (2.3 -1.2, 5.7 25.12)\n"
     ]
    }
   ],
   "source": [
    "print(building_points[:2].wkt)"
   ]
  },
  {
   "cell_type": "code",
   "execution_count": 37,
   "metadata": {},
   "outputs": [],
   "source": [
    "# Collection of Lines\n",
    "street_roads = MultiLineString([road1, road2, road3, road4])"
   ]
  },
  {
   "cell_type": "code",
   "execution_count": 38,
   "metadata": {},
   "outputs": [
    {
     "data": {
      "image/svg+xml": [
       "<svg xmlns=\"http://www.w3.org/2000/svg\" xmlns:xlink=\"http://www.w3.org/1999/xlink\" width=\"100.0\" height=\"100.0\" viewBox=\"-0.6088 -21.908800000000003 9.717600000000001 48.83760000000001\" preserveAspectRatio=\"xMinYMin meet\"><g transform=\"matrix(1,0,0,-1,0,5.02)\"><g><polyline fill=\"none\" stroke=\"#66cc99\" stroke-width=\"0.9767520000000002\" points=\"2.1,-4.5 3.4,-1.2 5.4,-5.1\" opacity=\"0.8\" /><polyline fill=\"none\" stroke=\"#66cc99\" stroke-width=\"0.9767520000000002\" points=\"1.2,3.2 2.5,-2.3 4.3,-1.2\" opacity=\"0.8\" /><polyline fill=\"none\" stroke=\"#66cc99\" stroke-width=\"0.9767520000000002\" points=\"2.3,-1.2 5.7,25.12 7.3,-20.1 7.3,-20.1\" opacity=\"0.8\" /><polyline fill=\"none\" stroke=\"#66cc99\" stroke-width=\"0.9767520000000002\" points=\"4.5,1.2 2.3,4.6 5.6,-2.3\" opacity=\"0.8\" /></g></g></svg>"
      ],
      "text/plain": [
       "<shapely.geometry.multilinestring.MultiLineString at 0x1e61189dfd0>"
      ]
     },
     "execution_count": 38,
     "metadata": {},
     "output_type": "execute_result"
    }
   ],
   "source": [
    "street_roads"
   ]
  },
  {
   "cell_type": "code",
   "execution_count": 39,
   "metadata": {},
   "outputs": [
    {
     "name": "stdout",
     "output_type": "stream",
     "text": [
      "99.17601583932846\n",
      "0.0\n",
      "<shapely.geometry.base.GeometrySequence object at 0x000001E6118E1A20>\n"
     ]
    }
   ],
   "source": [
    "# We can also run common object attributes\n",
    "print(street_roads.length)\n",
    "print(street_roads.area)\n",
    "print(street_roads.geoms)"
   ]
  },
  {
   "cell_type": "code",
   "execution_count": 45,
   "metadata": {},
   "outputs": [],
   "source": [
    "# MultiPolygon\n",
    "areas = MultiPolygon([world2, world_has_a_hole])"
   ]
  },
  {
   "cell_type": "code",
   "execution_count": 46,
   "metadata": {},
   "outputs": [
    {
     "data": {
      "image/svg+xml": [
       "<svg xmlns=\"http://www.w3.org/2000/svg\" xmlns:xlink=\"http://www.w3.org/1999/xlink\" width=\"300\" height=\"208.8\" viewBox=\"-194.4 -104.4 388.8 208.8\" preserveAspectRatio=\"xMinYMin meet\"><g transform=\"matrix(1,0,0,-1,0,0.0)\"><g><path fill-rule=\"evenodd\" fill=\"#66cc99\" stroke=\"#555555\" stroke-width=\"2.592\" opacity=\"0.6\" d=\"M 2.3,-1.2 L 5.7,25.12 L 7.3,-20.1 L 7.3,-20.1 L 2.3,-1.2 z\" /><path fill-rule=\"evenodd\" fill=\"#66cc99\" stroke=\"#555555\" stroke-width=\"2.592\" opacity=\"0.6\" d=\"M -180.0,90.0 L -180.0,-90.0 L 180.0,-90.0 L 180.0,90.0 L -180.0,90.0 z M -170.0,80.0 L -170.0,-80.0 L 170.0,-80.0 L 170.0,80.0 L -170.0,80.0 z\" /></g></g></svg>"
      ],
      "text/plain": [
       "<shapely.geometry.multipolygon.MultiPolygon at 0x1e61191bda0>"
      ]
     },
     "execution_count": 46,
     "metadata": {},
     "output_type": "execute_result"
    }
   ],
   "source": [
    "areas"
   ]
  },
  {
   "cell_type": "markdown",
   "metadata": {},
   "source": [
    "This is the end of the first lesson. But as a test of knowledge, please check out 'Assignment_1.ipynb' and try to do it yourself. But if you are having any problem completing any part of the assignment, please check out the link to the answer given in the assignment"
   ]
  },
  {
   "cell_type": "code",
   "execution_count": null,
   "metadata": {},
   "outputs": [],
   "source": []
  }
 ],
 "metadata": {
  "kernelspec": {
   "display_name": "Python 3",
   "language": "python",
   "name": "python3"
  },
  "language_info": {
   "codemirror_mode": {
    "name": "ipython",
    "version": 3
   },
   "file_extension": ".py",
   "mimetype": "text/x-python",
   "name": "python",
   "nbconvert_exporter": "python",
   "pygments_lexer": "ipython3",
   "version": "3.7.3"
  }
 },
 "nbformat": 4,
 "nbformat_minor": 2
}
